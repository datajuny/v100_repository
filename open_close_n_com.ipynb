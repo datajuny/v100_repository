{
 "cells": [
  {
   "cell_type": "code",
   "execution_count": null,
   "metadata": {},
   "outputs": [],
   "source": [
    "# you can write to stdout for debugging purposes, e.g.\n",
    "# print(\"this is a debug message\")\n",
    "def solution(S):\n",
    "    \n",
    "    k = 0\n",
    "    s = S\n",
    "\n",
    "    c_idx = s.rfind(')')\n",
    "    o_idx = s.find('(')\n",
    "    \n",
    "    # closing basket X\n",
    "    if c_idx == -1:\n",
    "        k = 0\n",
    "    \n",
    "    # opening basket X\n",
    "    elif o_idx == -1:\n",
    "        k = len(s)\n",
    "        \n",
    "    # opening, closing basket O\n",
    "    else:\n",
    "        while(len(s) > 0):\n",
    "\n",
    "            if o_idx == -1:\n",
    "                k += len(s)\n",
    "                break\n",
    " \n",
    "            else:\n",
    "                if c_idx == -1:\n",
    "                    break\n",
    "                elif o_idx < c_idx:\n",
    "                    k += o_idx +1\n",
    "                    s = s[o_idx+1 : c_idx]\n",
    "                    c_idx = s.rfind(')')\n",
    "                    o_idx = s.find('(')\n",
    "                    continue\n",
    "                else:\n",
    "                    k += c_idx+1\n",
    "                    break\n",
    "\n",
    "    return k"
   ]
  }
 ],
 "metadata": {
  "kernelspec": {
   "display_name": "Python 3",
   "language": "python",
   "name": "python3"
  },
  "language_info": {
   "codemirror_mode": {
    "name": "ipython",
    "version": 3
   },
   "file_extension": ".py",
   "mimetype": "text/x-python",
   "name": "python",
   "nbconvert_exporter": "python",
   "pygments_lexer": "ipython3",
   "version": "3.6.5"
  }
 },
 "nbformat": 4,
 "nbformat_minor": 2
}
